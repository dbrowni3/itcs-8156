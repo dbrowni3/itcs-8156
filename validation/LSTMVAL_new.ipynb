{
 "cells": [
  {
   "cell_type": "markdown",
   "id": "f0a2fecb-13af-4068-a2a8-80cf0329c310",
   "metadata": {},
   "source": [
    "# R-SHAP Implementation"
   ]
  },
  {
   "cell_type": "markdown",
   "id": "09dc5b61-8b3b-4da6-a115-f00086fca5b4",
   "metadata": {},
   "source": [
    "### Workspace Prep"
   ]
  },
  {
   "cell_type": "code",
   "execution_count": 1,
   "id": "40223008-8655-4ee7-bf54-deb1ff96d78d",
   "metadata": {},
   "outputs": [],
   "source": [
    "import torch\n",
    "import torch.nn as nn\n",
    "import torch.nn.functional as fn\n",
    "from torch.optim import Adam\n",
    "from torch.utils.data import TensorDataset, DataLoader\n",
    "from torch.autograd import Variable \n",
    "\n",
    "from sklearn.preprocessing import StandardScaler, MinMaxScaler\n",
    "\n",
    "import pytorch_lightning as pl\n",
    "from pytorch_lightning.loggers import TensorBoardLogger as TensorBoardLogger\n",
    "\n",
    "import tensorboard\n",
    "\n",
    "import matplotlib.pyplot as plt\n",
    "import pandas as pd\n",
    "import numpy as np\n",
    "import sys\n",
    "import tqdm as notebook_tqdm\n",
    "\n",
    "\n",
    "\n",
    "# caution: path[0] is reserved for script path (or '' in REPL)\n",
    "# sys.path.insert(1, r'D:\\Documents\\GitHub\\itcs-8156\\utils')\n",
    "# sys.path.insert(1, r'D:\\Documents\\GitHub\\itcs-8156\\lstm')\n",
    "sys.path.insert(1, r'H:\\My Drive\\SP23\\ML\\envs\\groupWork\\utils')\n",
    "sys.path.insert(1, r'H:\\My Drive\\SP23\\ML\\envs\\groupWork\\lstm')\n",
    "\n",
    "import preprocessing as pp\n",
    "from preprocessing import (market_prepro,\n",
    "                           lstm_timeseries_feat_and_targ,\n",
    "                           \n",
    ")\n",
    "\n",
    "plt.style.use('ggplot')\n",
    "\n",
    "%load_ext autoreload\n",
    "%autoreload 2\n",
    "\n",
    "from lstm_model import BasicLSTM\n"
   ]
  },
  {
   "cell_type": "markdown",
   "id": "c7295a54-2fe4-4302-bfe1-b2b1b5120413",
   "metadata": {},
   "source": [
    "Uncomment below to install missing modules"
   ]
  },
  {
   "cell_type": "code",
   "execution_count": 2,
   "id": "b19a66b0-21de-471f-98f5-2bb9cdd3d4dd",
   "metadata": {},
   "outputs": [],
   "source": [
    "# !pip install ipywidgets"
   ]
  },
  {
   "cell_type": "code",
   "execution_count": 3,
   "id": "3b7f8f17-2a45-4ff1-b3a4-ae04a4145150",
   "metadata": {},
   "outputs": [],
   "source": [
    "# pip install tensorboard"
   ]
  },
  {
   "cell_type": "code",
   "execution_count": 4,
   "id": "55d3b073-e303-448c-a6e3-62e9b40afbf3",
   "metadata": {
    "tags": []
   },
   "outputs": [],
   "source": [
    "# pip install --ignore-installed PyYAML  # might be necessary to run before installing pytorch"
   ]
  },
  {
   "cell_type": "code",
   "execution_count": 5,
   "id": "e24cec28-8434-47f9-8126-14b158d41834",
   "metadata": {},
   "outputs": [],
   "source": [
    "# pip install pytorch-lightning"
   ]
  },
  {
   "cell_type": "code",
   "execution_count": 6,
   "id": "5abbf1a3-ad03-44be-a15a-d8034dab7f9d",
   "metadata": {},
   "outputs": [],
   "source": [
    "# pip install torch"
   ]
  },
  {
   "cell_type": "markdown",
   "id": "65a274c7-a385-4f6a-a79c-75f6c3877020",
   "metadata": {},
   "source": [
    "### Load and Pre-processs Stock Data"
   ]
  },
  {
   "cell_type": "code",
   "execution_count": 7,
   "id": "1c2a7ae7-ab35-4e99-87ed-5d92b0139613",
   "metadata": {},
   "outputs": [],
   "source": [
    "df_sb = pd.read_csv('SBUX.csv', index_col='Date', parse_dates=True)"
   ]
  },
  {
   "cell_type": "code",
   "execution_count": 8,
   "id": "df96994e-654b-4e17-a5e5-ced03a19deca",
   "metadata": {},
   "outputs": [
    {
     "data": {
      "text/html": [
       "<div>\n",
       "<style scoped>\n",
       "    .dataframe tbody tr th:only-of-type {\n",
       "        vertical-align: middle;\n",
       "    }\n",
       "\n",
       "    .dataframe tbody tr th {\n",
       "        vertical-align: top;\n",
       "    }\n",
       "\n",
       "    .dataframe thead th {\n",
       "        text-align: right;\n",
       "    }\n",
       "</style>\n",
       "<table border=\"1\" class=\"dataframe\">\n",
       "  <thead>\n",
       "    <tr style=\"text-align: right;\">\n",
       "      <th></th>\n",
       "      <th>Open</th>\n",
       "      <th>High</th>\n",
       "      <th>Low</th>\n",
       "      <th>Close</th>\n",
       "      <th>Adj Close</th>\n",
       "      <th>Volume</th>\n",
       "    </tr>\n",
       "    <tr>\n",
       "      <th>Date</th>\n",
       "      <th></th>\n",
       "      <th></th>\n",
       "      <th></th>\n",
       "      <th></th>\n",
       "      <th></th>\n",
       "      <th></th>\n",
       "    </tr>\n",
       "  </thead>\n",
       "  <tbody>\n",
       "    <tr>\n",
       "      <th>2019-12-11</th>\n",
       "      <td>86.260002</td>\n",
       "      <td>86.870003</td>\n",
       "      <td>85.849998</td>\n",
       "      <td>86.589996</td>\n",
       "      <td>81.116577</td>\n",
       "      <td>4921900</td>\n",
       "    </tr>\n",
       "    <tr>\n",
       "      <th>2019-12-12</th>\n",
       "      <td>88.000000</td>\n",
       "      <td>88.889999</td>\n",
       "      <td>87.540001</td>\n",
       "      <td>88.209999</td>\n",
       "      <td>82.634186</td>\n",
       "      <td>10282100</td>\n",
       "    </tr>\n",
       "    <tr>\n",
       "      <th>2019-12-13</th>\n",
       "      <td>88.019997</td>\n",
       "      <td>88.790001</td>\n",
       "      <td>87.580002</td>\n",
       "      <td>88.669998</td>\n",
       "      <td>83.065117</td>\n",
       "      <td>6714100</td>\n",
       "    </tr>\n",
       "    <tr>\n",
       "      <th>2019-12-16</th>\n",
       "      <td>89.139999</td>\n",
       "      <td>89.300003</td>\n",
       "      <td>88.430000</td>\n",
       "      <td>88.779999</td>\n",
       "      <td>83.168152</td>\n",
       "      <td>6705600</td>\n",
       "    </tr>\n",
       "    <tr>\n",
       "      <th>2019-12-17</th>\n",
       "      <td>88.870003</td>\n",
       "      <td>88.970001</td>\n",
       "      <td>87.470001</td>\n",
       "      <td>88.129997</td>\n",
       "      <td>82.559242</td>\n",
       "      <td>7296900</td>\n",
       "    </tr>\n",
       "    <tr>\n",
       "      <th>...</th>\n",
       "      <td>...</td>\n",
       "      <td>...</td>\n",
       "      <td>...</td>\n",
       "      <td>...</td>\n",
       "      <td>...</td>\n",
       "      <td>...</td>\n",
       "    </tr>\n",
       "    <tr>\n",
       "      <th>2020-12-04</th>\n",
       "      <td>101.349998</td>\n",
       "      <td>102.940002</td>\n",
       "      <td>101.070000</td>\n",
       "      <td>102.279999</td>\n",
       "      <td>97.790939</td>\n",
       "      <td>6952700</td>\n",
       "    </tr>\n",
       "    <tr>\n",
       "      <th>2020-12-07</th>\n",
       "      <td>102.010002</td>\n",
       "      <td>102.220001</td>\n",
       "      <td>100.690002</td>\n",
       "      <td>101.410004</td>\n",
       "      <td>96.959137</td>\n",
       "      <td>4514800</td>\n",
       "    </tr>\n",
       "    <tr>\n",
       "      <th>2020-12-08</th>\n",
       "      <td>100.370003</td>\n",
       "      <td>101.570000</td>\n",
       "      <td>100.010002</td>\n",
       "      <td>101.209999</td>\n",
       "      <td>96.767899</td>\n",
       "      <td>3911300</td>\n",
       "    </tr>\n",
       "    <tr>\n",
       "      <th>2020-12-09</th>\n",
       "      <td>101.940002</td>\n",
       "      <td>102.209999</td>\n",
       "      <td>100.099998</td>\n",
       "      <td>100.400002</td>\n",
       "      <td>95.993446</td>\n",
       "      <td>6629900</td>\n",
       "    </tr>\n",
       "    <tr>\n",
       "      <th>2020-12-10</th>\n",
       "      <td>103.510002</td>\n",
       "      <td>106.089996</td>\n",
       "      <td>102.750000</td>\n",
       "      <td>105.389999</td>\n",
       "      <td>100.764450</td>\n",
       "      <td>12939200</td>\n",
       "    </tr>\n",
       "  </tbody>\n",
       "</table>\n",
       "<p>253 rows × 6 columns</p>\n",
       "</div>"
      ],
      "text/plain": [
       "                  Open        High         Low       Close   Adj Close  \\\n",
       "Date                                                                     \n",
       "2019-12-11   86.260002   86.870003   85.849998   86.589996   81.116577   \n",
       "2019-12-12   88.000000   88.889999   87.540001   88.209999   82.634186   \n",
       "2019-12-13   88.019997   88.790001   87.580002   88.669998   83.065117   \n",
       "2019-12-16   89.139999   89.300003   88.430000   88.779999   83.168152   \n",
       "2019-12-17   88.870003   88.970001   87.470001   88.129997   82.559242   \n",
       "...                ...         ...         ...         ...         ...   \n",
       "2020-12-04  101.349998  102.940002  101.070000  102.279999   97.790939   \n",
       "2020-12-07  102.010002  102.220001  100.690002  101.410004   96.959137   \n",
       "2020-12-08  100.370003  101.570000  100.010002  101.209999   96.767899   \n",
       "2020-12-09  101.940002  102.209999  100.099998  100.400002   95.993446   \n",
       "2020-12-10  103.510002  106.089996  102.750000  105.389999  100.764450   \n",
       "\n",
       "              Volume  \n",
       "Date                  \n",
       "2019-12-11   4921900  \n",
       "2019-12-12  10282100  \n",
       "2019-12-13   6714100  \n",
       "2019-12-16   6705600  \n",
       "2019-12-17   7296900  \n",
       "...              ...  \n",
       "2020-12-04   6952700  \n",
       "2020-12-07   4514800  \n",
       "2020-12-08   3911300  \n",
       "2020-12-09   6629900  \n",
       "2020-12-10  12939200  \n",
       "\n",
       "[253 rows x 6 columns]"
      ]
     },
     "metadata": {},
     "output_type": "display_data"
    }
   ],
   "source": [
    "display(df_sb)"
   ]
  },
  {
   "cell_type": "code",
   "execution_count": 9,
   "id": "e0ef639c-31ed-497a-8e17-0894683e55ac",
   "metadata": {},
   "outputs": [
    {
     "data": {
      "text/plain": [
       "<AxesSubplot: title={'center': 'Starbucks Sales Volume'}, xlabel='Date'>"
      ]
     },
     "execution_count": 9,
     "metadata": {},
     "output_type": "execute_result"
    },
    {
     "data": {
      "image/png": "[encoded data removed]",
      "text/plain": [
       "<Figure size 640x480 with 1 Axes>"
      ]
     },
     "metadata": {},
     "output_type": "display_data"
    }
   ],
   "source": [
    "df_sb['Volume'].plot(title='Starbucks Sales Volume')"
   ]
  },
  {
   "cell_type": "code",
   "execution_count": 10,
   "id": "d60e859e-45af-4b39-97a2-49e4eff3e5b0",
   "metadata": {},
   "outputs": [],
   "source": [
    "def processdata(df, day_feat, day_targ):\n",
    "    df_scaled = pp.std_values(df, 'minmax')\n",
    "\n",
    "    X_train, X_test, T_train, T_test = pp.split_data_validate(df_scaled, 'Volume')\n",
    "\n",
    "    dl_train, ds_train = pp.lstm_timeseries_feat_and_targ(X_train, T_train, day_feat, day_targ, None )\n",
    "    dl_test, ds_test = pp.lstm_timeseries_feat_and_targ(X_test, T_test, day_feat, day_targ, None)\n",
    "\n",
    "    return dl_train, ds_train, dl_test, ds_test\n",
    "\n",
    "def train_model(model, data, epochs, logger_name):\n",
    "    logger = TensorBoardLogger(\"lightning_logs\", name=logger_name)\n",
    "    trainer = pl.Trainer(max_epochs=epochs,logger=logger)\n",
    "\n",
    "    trainer.fit(model, train_dataloaders=data)\n",
    "    trainer.test(model,dataloaders=dl_test)\n",
    "\n",
    "dl_train, ds_train, dl_test, ds_test = processdata(df_sb, 3, 0)\n",
    "\n"
   ]
  },
  {
   "cell_type": "markdown",
   "id": "72110d3a-bb0f-40ef-ba20-2aa1d6eebd72",
   "metadata": {},
   "source": [
    "## Test Our LSTM Model On Starbucks Data"
   ]
  },
  {
   "cell_type": "code",
   "execution_count": 11,
   "id": "9ef09303-0283-43b7-927e-9087a246bb05",
   "metadata": {},
   "outputs": [
    {
     "name": "stderr",
     "output_type": "stream",
     "text": [
      "GPU available: False, used: False\n",
      "TPU available: False, using: 0 TPU cores\n",
      "IPU available: False, using: 0 IPUs\n",
      "HPU available: False, using: 0 HPUs\n",
      "\n",
      "  | Name | Type | Params\n",
      "------------------------------\n",
      "------------------------------\n",
      "30        Trainable params\n",
      "0         Non-trainable params\n",
      "30        Total params\n",
      "0.000     Total estimated model params size (MB)\n",
      "The dataloader, train_dataloader, does not have many workers which may be a bottleneck. Consider increasing the value of the `num_workers` argument` (try 16 which is the number of cpus on this machine) in the `DataLoader` init to improve performance.\n"
     ]
    },
    {
     "data": {
      "application/vnd.jupyter.widget-view+json": {
       "model_id": "1afaf36715584baba682f7fda1cf493f",
       "version_major": 2,
       "version_minor": 0
      },
      "text/plain": [
       "Training: 0it [00:00, ?it/s]"
      ]
     },
     "metadata": {},
     "output_type": "display_data"
    },
    {
     "name": "stderr",
     "output_type": "stream",
     "text": [
      "`Trainer.fit` stopped: `max_epochs=3` reached.\n",
      "The dataloader, test_dataloader, does not have many workers which may be a bottleneck. Consider increasing the value of the `num_workers` argument` (try 16 which is the number of cpus on this machine) in the `DataLoader` init to improve performance.\n"
     ]
    },
    {
     "data": {
      "application/vnd.jupyter.widget-view+json": {
       "model_id": "7bcbbfc26acc45d2a03a66d1bac6e9b1",
       "version_major": 2,
       "version_minor": 0
      },
      "text/plain": [
       "Testing: 0it [00:00, ?it/s]"
      ]
     },
     "metadata": {},
     "output_type": "display_data"
    },
    {
     "name": "stdout",
     "output_type": "stream",
     "text": [
      "────────────────────────────────────────────────────────────────────────────────────────────────────────────────────────\n",
      "       Test metric             DataLoader 0\n",
      "────────────────────────────────────────────────────────────────────────────────────────────────────────────────────────\n",
      "     test_loss_epoch       0.010755012399474774\n",
      "────────────────────────────────────────────────────────────────────────────────────────────────────────────────────────\n"
     ]
    }
   ],
   "source": [
    "our_model = BasicLSTM(num_feat=5, num_hiddens=1, num_out=1, lr=0.01)\n",
    "\n",
    "train_model(our_model, dl_train, 3, 'our_model')"
   ]
  },
  {
   "cell_type": "markdown",
   "id": "0563a696-94ea-4508-8ae9-e55fd5cace80",
   "metadata": {
    "tags": []
   },
   "source": [
    "### Build Pytorch LSTM Model"
   ]
  },
  {
   "cell_type": "code",
   "execution_count": 12,
   "id": "1a2df9e1-f192-4e53-b3cb-da754fca2445",
   "metadata": {},
   "outputs": [],
   "source": [
    "class LSTMval(pl.LightningModule):\n",
    "    def __init__(self, num_feat, num_hiddens, num_layers, lr):\n",
    "        super().__init__()\n",
    "        self.num_layers = num_layers #number of layers\n",
    "        self.input_size = num_feat #input size\n",
    "        self.hidden_size = num_hiddens #hidden state\n",
    "        # self.seq_length = seq_length #sequence length\n",
    "        self.lr = lr\n",
    "        self.lstm = nn.LSTM(input_size=self.input_size, hidden_size=self.hidden_size,\n",
    "                          num_layers=self.num_layers, batch_first=True) #lstm\n",
    "    \n",
    "    def forward(self,x):\n",
    "        # h_0 = Variable(torch.zeros(self.num_layers, self.hidden_size)) #hidden state\n",
    "        # c_0 = Variable(torch.zeros(self.num_layers, self.hidden_size)) #internal state\n",
    "        # print(h_0,c_0)\n",
    "        # Propagate input through LSTM\n",
    "        output, (hn, cn) = self.lstm(x) #lstm with input, hidden, and internal state\n",
    "        return output\n",
    "    \n",
    "\n",
    "    def configure_optimizers(self):\n",
    "        return Adam(self.parameters(), lr = self.lr)\n",
    "    \n",
    "    def training_step(self,batch,batch_idx):\n",
    "        input_i, label_i = batch\n",
    "        # print(input_i[0],torch.transpose(input_i[0],0,1))\n",
    "        output_i = self.forward(torch.transpose(input_i[0],0,1))[0]\n",
    "        \n",
    "        loss = (output_i - label_i)**2\n",
    "        \n",
    "        self.log(\"training loss\", loss, logger=True)\n",
    "        \n",
    "        return loss\n",
    "    \n",
    "    def test_step(self, batch, batch_idx):\n",
    "        input_i, label_i = batch\n",
    "        output_i = self.forward(torch.transpose(input_i[0],0,1))[0]\n",
    "        \n",
    "        test_loss = (output_i - label_i)**2\n",
    "        \n",
    "        self.log(\"test_loss\", test_loss, on_step=True, logger=True)\n"
   ]
  },
  {
   "cell_type": "markdown",
   "id": "5b60ba48-81d8-460d-9944-51303e80acaf",
   "metadata": {},
   "source": [
    "### Test Pytorch LSTM Model on Starbucks Data"
   ]
  },
  {
   "cell_type": "code",
   "execution_count": 13,
   "id": "2aef8328-8673-4091-9de6-b0e3a316689b",
   "metadata": {},
   "outputs": [],
   "source": [
    "val_mdl = LSTMval(num_feat = 5, num_hiddens = 1, num_layers = 1, lr = 0.01).double()"
   ]
  },
  {
   "cell_type": "code",
   "execution_count": 14,
   "id": "82e5e70e-6f51-4310-8f09-c7914b20a6f6",
   "metadata": {},
   "outputs": [
    {
     "name": "stderr",
     "output_type": "stream",
     "text": [
      "GPU available: False, used: False\n",
      "TPU available: False, using: 0 TPU cores\n",
      "IPU available: False, using: 0 IPUs\n",
      "HPU available: False, using: 0 HPUs\n",
      "\n",
      "  | Name | Type | Params\n",
      "------------------------------\n",
      "0 | lstm | LSTM | 32    \n",
      "------------------------------\n",
      "32        Trainable params\n",
      "0         Non-trainable params\n",
      "32        Total params\n",
      "0.000     Total estimated model params size (MB)\n"
     ]
    },
    {
     "data": {
      "application/vnd.jupyter.widget-view+json": {
       "model_id": "8b8fe4024365492b911a546a75f762a8",
       "version_major": 2,
       "version_minor": 0
      },
      "text/plain": [
       "Training: 0it [00:00, ?it/s]"
      ]
     },
     "metadata": {},
     "output_type": "display_data"
    },
    {
     "name": "stderr",
     "output_type": "stream",
     "text": [
      "`Trainer.fit` stopped: `max_epochs=3` reached.\n"
     ]
    }
   ],
   "source": [
    "logger = TensorBoardLogger(\"lightning_logs\", name=\"SBUX\")\n",
    "trainer = pl.Trainer(max_epochs=3,logger=logger)\n",
    "trainer.fit(val_mdl, train_dataloaders =dl_train)\n"
   ]
  },
  {
   "cell_type": "code",
   "execution_count": 15,
   "id": "de6032a3-2a02-412f-bc92-01404a4611a1",
   "metadata": {},
   "outputs": [
    {
     "data": {
      "application/vnd.jupyter.widget-view+json": {
       "model_id": "93ee1406a7524fd6993d44b7680923fc",
       "version_major": 2,
       "version_minor": 0
      },
      "text/plain": [
       "Testing: 0it [00:00, ?it/s]"
      ]
     },
     "metadata": {},
     "output_type": "display_data"
    },
    {
     "name": "stdout",
     "output_type": "stream",
     "text": [
      "────────────────────────────────────────────────────────────────────────────────────────────────────────────────────────\n",
      "       Test metric             DataLoader 0\n",
      "────────────────────────────────────────────────────────────────────────────────────────────────────────────────────────\n",
      "     test_loss_epoch       0.011306646708572878\n",
      "────────────────────────────────────────────────────────────────────────────────────────────────────────────────────────\n"
     ]
    },
    {
     "data": {
      "text/plain": [
       "[{'test_loss_epoch': 0.011306646708572878}]"
      ]
     },
     "execution_count": 15,
     "metadata": {},
     "output_type": "execute_result"
    }
   ],
   "source": [
    "trainer.test(val_mdl,dataloaders = dl_test)"
   ]
  }
 ],
 "metadata": {
  "kernelspec": {
   "display_name": "Python 3 (ipykernel)",
   "language": "python",
   "name": "python3"
  },
  "language_info": {
   "codemirror_mode": {
    "name": "ipython",
    "version": 3
   },
   "file_extension": ".py",
   "mimetype": "text/x-python",
   "name": "python",
   "nbconvert_exporter": "python",
   "pygments_lexer": "ipython3",
   "version": "3.8.15"
  }
 },
 "nbformat": 4,
 "nbformat_minor": 5
}
