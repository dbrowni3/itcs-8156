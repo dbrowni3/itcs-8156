{
 "cells": [
  {
   "cell_type": "code",
   "execution_count": 1,
   "metadata": {},
   "outputs": [],
   "source": [
    "import numpy as np\n",
    "import pandas as pd\n",
    "import seaborn as sns\n",
    "# import sys\n",
    "# sys.path.insert(1, )\n",
    "\n",
    "from preprocessing import market_prepro"
   ]
  },
  {
   "attachments": {},
   "cell_type": "markdown",
   "metadata": {},
   "source": [
    "Now that we have Spencer's data importer lets make a driver that pulls in the data and training the model\n",
    "\n",
    "SUDO CODE:\n",
    "\n",
    "1. call data importer\n",
    "\n",
    "2. restructure the dataset based on number of days desired [function written]\n",
    "\n",
    "3. train model with training data\n",
    "\n",
    "4. test model\n",
    "\n",
    "5. return metrics"
   ]
  },
  {
   "cell_type": "code",
   "execution_count": 10,
   "metadata": {},
   "outputs": [
    {
     "name": "stdout",
     "output_type": "stream",
     "text": [
      "Date\n",
      "2010-07-21    23.946\n",
      "2010-07-22    24.487\n",
      "2010-07-23    24.507\n",
      "2010-07-26    24.595\n",
      "2010-07-27    24.517\n",
      "               ...  \n",
      "2015-09-08    36.193\n",
      "2015-09-09    35.967\n",
      "2015-09-10    36.223\n",
      "2015-09-11    35.938\n",
      "2015-09-14    35.938\n",
      "Name: Close, Length: 1044, dtype: float64\n"
     ]
    }
   ],
   "source": [
    "# st = \"Stocks\"\n",
    "st = \"ETFs\"\n",
    "\n",
    "#Input stock name\n",
    "sn = \"aadr\" \n",
    "f = r'D:\\Desktop\\College Spring 2023\\machineLearning\\project\\coding\\data'\n",
    "X_train, X_test, T_train, T_test = market_prepro(f,st,sn)\n",
    "\n",
    "print(T_train)\n"
   ]
  },
  {
   "cell_type": "code",
   "execution_count": 9,
   "metadata": {},
   "outputs": [],
   "source": [
    "def structure_timeseries_features(df,offset,exclude):\n",
    "    '''\n",
    "    This takes a dataframe and creates new columns that contain the data from\n",
    "    previous days so that time series forecasting can occur.\n",
    "\n",
    "    INPUTS:\n",
    "        df - dataframe: input data\n",
    "\n",
    "        offset - int: the number of days to go back. This creates this many\n",
    "                        new columns\n",
    "\n",
    "        exclude - list str: list of columns to exclude from the time series \n",
    "                            expansion\n",
    "\n",
    "    OUTPUTS:\n",
    "        df_out - dataframe: dataframe with new columns\n",
    "    '''\n",
    "\n",
    "    df_out = pd.DataFrame() \n",
    "\n",
    "    for cc in df.columns.values:\n",
    "        if (cc not in exclude):\n",
    "            for ii in range(offset):\n",
    "                col_name = (cc+\"_m\"+str(ii+1))\n",
    "\n",
    "                df_out[col_name] = df[cc].shift(ii+1)\n",
    "\n",
    "\n",
    "    df_out = df_out.iloc[offset:,:]\n",
    "\n",
    "    return df_out\n",
    "\n",
    "def structure_timeseries_targets(df,offset):\n",
    "    '''\n",
    "    companion function to remove the first few days of targets to make sure\n",
    "    the sizes match between features and targets.\n",
    "\n",
    "    INPUTS:\n",
    "        df - dataframe: input data targets.\n",
    "\n",
    "    OUTPUTS:\n",
    "        df_out - dataframe: dataframe with rows removed\n",
    "\n",
    "    '''\n",
    "    df_out = df.iloc[offset:,:]\n",
    "\n",
    "    return df_out\n",
    "\n",
    "# df_ts = structure_timeseries_features(tt,2, ['Day_date','Month','Year'])\n"
   ]
  },
  {
   "cell_type": "code",
   "execution_count": null,
   "metadata": {},
   "outputs": [],
   "source": [
    "def modeldriver(mdl, n_days, f, st, sn):\n",
    "    '''\n",
    "    This function takes a model, imports the data, trains the model\n",
    "    '''"
   ]
  }
 ],
 "metadata": {
  "kernelspec": {
   "display_name": "theoryML",
   "language": "python",
   "name": "python3"
  },
  "language_info": {
   "codemirror_mode": {
    "name": "ipython",
    "version": 3
   },
   "file_extension": ".py",
   "mimetype": "text/x-python",
   "name": "python",
   "nbconvert_exporter": "python",
   "pygments_lexer": "ipython3",
   "version": "3.8.16"
  },
  "orig_nbformat": 4,
  "vscode": {
   "interpreter": {
    "hash": "afa89821fb688fae9abad74072d49110f1b0c684616f3d03fc58e03f2cfb92e7"
   }
  }
 },
 "nbformat": 4,
 "nbformat_minor": 2
}
